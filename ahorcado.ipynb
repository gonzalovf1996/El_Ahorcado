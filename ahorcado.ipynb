{
 "cells": [
  {
   "cell_type": "markdown",
   "metadata": {},
   "source": [
    "## Juego del Ahorcado"
   ]
  },
  {
   "cell_type": "markdown",
   "metadata": {},
   "source": [
    "## ¿Escaparás de la horca, mequetrefe?\n",
    "\n",
    "A continuación se le facilita la fórmula para acceder al juego del ahorcado. Este jupyter nootebook se compone de dos celdas: 1ª con la fórmula, 2ª con el llamado a la fórmula para iniciar el juego."
   ]
  },
  {
   "cell_type": "code",
   "execution_count": 1,
   "metadata": {},
   "outputs": [],
   "source": [
    "def play_ahorcado():\n",
    "    '''\n",
    "    Esta función es utilizada para jugar al Juego del Ahocardo. \n",
    "    Una vez iniciado el juego, se solicitarán dos inputs: \n",
    "        palabra_adivinar -> string\n",
    "        intentos -> integer\n",
    "    '''\n",
    "\n",
    "    palabra_adivinar = list(input(\"Guardian! Introduzca la palabra que el condenado debe adivinar para salvar su vida: \").upper())\n",
    "\n",
    "        #Indicamos que solamente hay 6 intentos (para ello, utilizamos un \"while\", y cuando se acaben los intentos, hacemos un \"break\")\n",
    "    intentos = int(input(\"Guardián, introduzca el número de vidas que le concedes al condenado: \"))\n",
    "\n",
    "    print(\"Querido condenado, ¡Ya no hay vuelta atrás! Comienza el juego del AHORCADO! Esperemos que sobrevivas a esta temerosa experiencia, ¡jejejejeje!\")\n",
    "\n",
    "    '''Generaremos una palabra que no revele pero que indique el número de letras que contiene la palabra a adivinar:'''\n",
    "    palabra_camuflada = list(\"_\" * len(palabra_adivinar))\n",
    "    print(\"La palabra a adivinar es: \", \" \".join(palabra_camuflada)) #Lo mostraremos por pantalla\n",
    "\n",
    "    while intentos >= 0:\n",
    "        import time #Por si acaso, para que no se quede pensando infinitamente\n",
    "        time.sleep(1) \n",
    "\n",
    "        import random #Para que haya más variedad en el juego\n",
    "        adjetivos_bonitos_para_nuestro_condenado = [\"rata de dos patas\", \"pecho frío\", \"mequetrefe sin patillas\", \"estropajo invertebrado\", \\\n",
    "            \"bicho bola sin escrúpulos\", \"oso malpeinado\", \"majadero\", \"bestia inmunda\", \"bicharaco con plumas\", \"brontosaurio escapado de la prehistoria\", \\\n",
    "                \"mercader de alfombras\", \"trozo de mula con patas\", \"calabacín diplomado\", \"troglodita sin cerebro\", \"lengua de jirafa\", \"imberbe sin meñiques\"]\n",
    "        \n",
    "        letra_usuario = input(\"Introduce una letra\").upper() #Lo ponemos en mayúscula, para que coincida con nuestra palabra_adivinar\n",
    "        \n",
    "        #Si la letra es correcta....\n",
    "        if letra_usuario in palabra_adivinar: \n",
    "            for indice, letra in enumerate(palabra_adivinar): #Hacemos un FOR__IN para añadir \"letra\" tantas veces como esté presente en \"palabra\"\n",
    "                if letra == letra_usuario: #Y para añadirlo en la posición correcta a nuestra palabra_camuflada, hacemos este condicional\n",
    "                    palabra_camuflada[indice] = letra\n",
    "                    if \"_\" not in palabra_camuflada: #Si se ha adivinado todas las letras de la palabra\n",
    "                        print(\" \".join(palabra_camuflada))\n",
    "                        print(\"ENHORABUENA. ¡Has salvado tu pescuezo esta vez. Mereces mis respetos, ¡\", random.choice(adjetivos_bonitos_para_nuestro_condenado), \"!\")\n",
    "                        return #Funciona como un \"break\", porque este último no funciona dentro de un \"nested if statement\"\n",
    "\n",
    "            print(\" \".join(palabra_camuflada))            \n",
    "            continue\n",
    "        \n",
    "        #Si la letra es incorrecta...\n",
    "        else:\n",
    "            if intentos == 0:\n",
    "                print(\"¡Se te acabaron los intentos, \", random.choice(adjetivos_bonitos_para_nuestro_condenado),\"! nos encontraremos de nuevo, pero en el inframundo, JAJAJAJJA. ¡Ahorquenlo!\")\n",
    "                break\n",
    "            else:\n",
    "                intentos -= 1\n",
    "                print(\"La letra \", letra_usuario, \"no es correcta. Te quedan \", intentos, \" intentos antes de morir. Piensa bien antes de responder, ¡\", random.choice(adjetivos_bonitos_para_nuestro_condenado), \"!\")\n",
    "                print(\" \".join(palabra_camuflada))\n",
    "                continue\n"
   ]
  },
  {
   "cell_type": "markdown",
   "metadata": {},
   "source": [
    "# Juego del Ahorcado\n",
    "\n",
    "Desde tiempos inmemoriales en los que **la piratería acechaba** las costas en busca de puertos desprotegidos, en aquellos puntos donde los lugareños levantaron almenaras y hacían guardia, ahorcaron a centenares de condenados acusados de piratería, levantando el miedo entre corsarios y otras clases de lobos de mar.\n",
    "\n",
    "Ponte en la situación de un condenado al que, considerando su alma como perdida, **se le ofrece la posibilidad de salvar su cuerpo si adivina una palabra**. ¿Qué palabra contendrá la salvación?, ¿Cuántos intentos tendrá el condenado para adivinarla? El guardián de la alameda lo decidirá, con un simple tirar de dados.\n",
    "\n",
    "*Y tú, mi querido condenado, ¿sobrevivirás?*"
   ]
  },
  {
   "cell_type": "code",
   "execution_count": 2,
   "metadata": {},
   "outputs": [],
   "source": [
    "'''Se muestra el comando que llama al juego:'''\n",
    "\n",
    "play_ahorcado()"
   ]
  }
 ],
 "metadata": {
  "interpreter": {
   "hash": "c476fdca1fa146c1aa9930d737fa2969289d4717133eb1043d72ac40501f9294"
  },
  "kernelspec": {
   "display_name": "Python 3.7.4 64-bit",
   "language": "python",
   "name": "python3"
  },
  "language_info": {
   "codemirror_mode": {
    "name": "ipython",
    "version": 3
   },
   "file_extension": ".py",
   "mimetype": "text/x-python",
   "name": "python",
   "nbconvert_exporter": "python",
   "pygments_lexer": "ipython3",
   "version": "3.7.4"
  },
  "orig_nbformat": 4
 },
 "nbformat": 4,
 "nbformat_minor": 2
}

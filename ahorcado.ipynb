{
 "cells": [
  {
   "cell_type": "markdown",
   "metadata": {},
   "source": [
    "## Juego del Ahorcado"
   ]
  },
  {
   "cell_type": "markdown",
   "metadata": {},
   "source": [
    "El funcionamiento es que vaya mostrando por pantalla ```_ _ _ _ _``` las rayas bajas correspondientes al número de letras que tiene la palabra a adivinar. El usuario deberá insertar una letra y, si esa letra existe, se mostrará o mostrarán las letras acertadas ```S _ S _ _```. \n",
    "\n",
    "Si falla, se mostrará el número de errores que lleva y, si lleva 6 errores, entonces se mostrará \"Fin del juego\""
   ]
  },
  {
   "cell_type": "code",
   "execution_count": 3,
   "metadata": {},
   "outputs": [],
   "source": [
    "def play_ahorcado():\n",
    "    '''\n",
    "    Esta función es utilizada para jugar al Juego del Ahocardo. \n",
    "    Una vez iniciado el juego, se solicitarán dos inputs: \n",
    "        palabra_adivinar -> string\n",
    "        intentos -> integer\n",
    "    '''\n",
    "\n",
    "    palabra_adivinar = list(input(\"Guardian! Introduzca la palabra que el condenado debe adivinar para salvar su vida: \").upper())\n",
    "\n",
    "        #Indicamos que solamente hay 6 intentos (para ello, utilizamos un \"while\", y cuando se acaben los intentos, hacemos un \"break\")\n",
    "    intentos = int(input(\"Guardián, introduzca el número de vidas que le concedes al condenado: \"))\n",
    "\n",
    "    print(\"Querido condenado, ¡Ya no hay vuelta atrás! Comienza el juego del AHORCADO!\\\n",
    "         Esperemos que sobrevivas a esta temerosa experiencia, ¡jejejejeje!\")\n",
    "\n",
    "    '''Generaremos una palabra que no revele pero que indique el número de letras que contiene la palabra a adivinar:'''\n",
    "    palabra_camuflada = list(\"_\" * len(palabra_adivinar))\n",
    "    print(\"La palabra a adivinar es: \", \" \".join(palabra_camuflada)) #Lo mostraremos por pantalla\n",
    "\n",
    "    while intentos >= 0:\n",
    "        import time #Por si acaso, para que no se quede pensando infinitamente\n",
    "        time.sleep(1) \n",
    "\n",
    "        import random #Para que haya más variedad en el juego\n",
    "        adjetivos_bonitos_para_nuestro_condenado = [\"rata de dos patas\", \"traidor\", \"mequetrefe\", \"estropajo invertebrado\", \\\n",
    "            \"insecto\", \"oso malpeinado\", \"majadero\", \"bestia inmunda\", \"bicharaco con plumas\", \"brontosaurio escapado de la prehistoria\", \\\n",
    "                \"mercader de alfombras\", \"cabeza de mula con patas\", \"calabacín diplomado\", \"troglodita\"]\n",
    "        \n",
    "        letra_usuario = input(\"Introduce una letra\").upper() #Lo ponemos en mayúscula, para que coincida con nuestra palabra_adivinar\n",
    "        \n",
    "        #Si la letra es correcta....\n",
    "        if letra_usuario in palabra_adivinar: \n",
    "            for indice, letra in enumerate(palabra_adivinar): #Hacemos un FOR__IN para añadir \"letra\" tantas veces como esté presente en \"palabra\"\n",
    "                if letra == letra_usuario: #Y para añadirlo en la posición correcta a nuestra palabra_camuflada, hacemos este condicional\n",
    "                    palabra_camuflada[indice] = letra\n",
    "                    if \"_\" not in palabra_camuflada: #Si se ha adivinado todas las letras de la palabra\n",
    "                        print(\" \".join(palabra_camuflada))\n",
    "                        print(\"ENHORABUENA. ¡Has salvado tu pescuezo esta vez. Mereces mis respetos, ¡bribón!\")\n",
    "                        return #Funciona como un \"break\", porque este último no funciona dentro de un \"nested if statement\"\n",
    "\n",
    "                print(\" \".join(palabra_camuflada))            \n",
    "                continue\n",
    "        \n",
    "        #Si la letra es incorrecta...\n",
    "        else:\n",
    "            if intentos == 0:\n",
    "                print(\"¡Se te acabaron los intentos, \", random.choice(adjetivos_bonitos_para_nuestro_condenado),\"! nos encontraremos de nuevo, \\\n",
    "                    pero en el inframundo, JAJAJAJJA. ¡Ahorquenlo!\")\n",
    "                break\n",
    "            else:\n",
    "                intentos -= 1\n",
    "                print(\"La letra \", letra_usuario, \"no es correcta. Te quedan \", intentos, \" intentos antes de morir. \\\n",
    "                    Piensa bien antes de responder, \", random.choice(adjetivos_bonitos_para_nuestro_condenado))\n",
    "                print(\" \".join(palabra_camuflada))\n",
    "                continue\n"
   ]
  },
  {
   "cell_type": "code",
   "execution_count": 4,
   "metadata": {},
   "outputs": [
    {
     "name": "stdout",
     "output_type": "stream",
     "text": [
      "Querido condenado, ¡Ya no hay vuelta atrás! Comienza el juego del AHORCADO!         Esperemos que sobrevivas a esta temerosa experiencia, ¡jejejejeje!\n",
      "La palabra a adivinar es:  _ _ _ _\n",
      "C _ _ _\n",
      "C _ _ _\n",
      "C _ C _\n",
      "C _ C _\n",
      "C _ C _\n",
      "C O C _\n",
      "C O C _\n",
      "C O C O\n",
      "ENHORABUENA. ¡Has salvado tu pescuezo esta vez. Mereces mis respetos, ¡bribón!\n"
     ]
    }
   ],
   "source": [
    "play_ahorcado()"
   ]
  }
 ],
 "metadata": {
  "interpreter": {
   "hash": "c476fdca1fa146c1aa9930d737fa2969289d4717133eb1043d72ac40501f9294"
  },
  "kernelspec": {
   "display_name": "Python 3.7.4 64-bit",
   "language": "python",
   "name": "python3"
  },
  "language_info": {
   "codemirror_mode": {
    "name": "ipython",
    "version": 3
   },
   "file_extension": ".py",
   "mimetype": "text/x-python",
   "name": "python",
   "nbconvert_exporter": "python",
   "pygments_lexer": "ipython3",
   "version": "3.7.4"
  },
  "orig_nbformat": 4
 },
 "nbformat": 4,
 "nbformat_minor": 2
}
